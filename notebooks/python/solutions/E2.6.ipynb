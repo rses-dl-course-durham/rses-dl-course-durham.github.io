{
 "cells": [
  {
   "cell_type": "markdown",
   "metadata": {},
   "source": [
    "# E2.6 Solution\n",
    "\n",
    "```python\n",
    "\n",
    "# Perform dataset normalisation and configure our dataset\n",
    "def reshape_and_normalize(images, labels):\n",
    "    # Convert from 1D array to 3D array of [3, 32, 32] \n",
    "    # the image is stored as [colour channel, width, height]\n",
    "    images = tf.reshape(images, (3, 32, 32))\n",
    "    # Swap from [colour channel, width, height] to [width, height, colour channel]\n",
    "    images = tf.transpose(images, (1, 2, 0))\n",
    "    # Convert to float32\n",
    "    images = tf.cast(images, tf.float32)\n",
    "    # Normalize\n",
    "    images /= 255\n",
    "    return images, labels\n",
    "\n",
    "\n",
    "train_dataset =  train_dataset.map(reshape_and_normalize)\n",
    "test_dataset  =  test_dataset.map(reshape_and_normalize)\n",
    "\n",
    "num_train_examples = 50000\n",
    "BATCH_SIZE = 32\n",
    "train_dataset = train_dataset.cache().repeat().shuffle(num_train_examples).batch(BATCH_SIZE)\n",
    "test_dataset = test_dataset.cache().batch(BATCH_SIZE)\n",
    "\n",
    "# Create and fit our model\n",
    "model = tf.keras.Sequential([\n",
    "    tf.keras.layers.Conv2D(32, (3,3), padding='same', activation=tf.nn.relu,\n",
    "                           input_shape=(32, 32, 3)),\n",
    "    tf.keras.layers.MaxPool2D((2, 2), strides=2),\n",
    "    tf.keras.layers.Conv2D(64, (3,3), padding='same', activation=tf.nn.relu),\n",
    "    tf.keras.layers.MaxPool2D((2, 2), strides=2),\n",
    "    tf.keras.layers.Flatten(),\n",
    "    tf.keras.layers.Dense(128, activation=tf.nn.relu),\n",
    "    tf.keras.layers.Dense(10)\n",
    "])\n",
    "model.compile(optimizer='adam',\n",
    "              loss=tf.keras.losses.SparseCategoricalCrossentropy(from_logits=True),\n",
    "              metrics=['accuracy', 'mse'])\n",
    "model.fit(train_dataset, \n",
    "          shuffle=True, \n",
    "          epochs=2, \n",
    "          steps_per_epoch=num_train_examples)\n",
    "\n",
    "# Evaluate the model with the test dataset\n",
    "model.evaluate(test_dataset)\n",
    "\n",
    "```"
   ]
  }
 ],
 "metadata": {
  "kernelspec": {
   "display_name": "Python 3",
   "language": "python",
   "name": "python3"
  },
  "language_info": {
   "codemirror_mode": {
    "name": "ipython",
    "version": 3
   },
   "file_extension": ".py",
   "mimetype": "text/x-python",
   "name": "python",
   "nbconvert_exporter": "python",
   "pygments_lexer": "ipython3",
   "version": "3.7.6"
  }
 },
 "nbformat": 4,
 "nbformat_minor": 4
}